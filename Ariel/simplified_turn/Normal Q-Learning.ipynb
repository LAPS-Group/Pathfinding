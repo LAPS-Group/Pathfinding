{
 "cells": [
  {
   "cell_type": "markdown",
   "metadata": {},
   "source": [
    "DQN Agent\n",
    "====\n",
    "Code taken from PyTorch DQN tutorial, then modified to work on our environment."
   ]
  },
  {
   "cell_type": "code",
   "execution_count": 1,
   "metadata": {},
   "outputs": [],
   "source": [
    "import gym\n",
    "import gym_drone\n",
    "import math\n",
    "import random\n",
    "import numpy as np\n",
    "import matplotlib\n",
    "import matplotlib.pyplot as plt\n",
    "from collections import namedtuple\n",
    "from itertools import count\n",
    "from PIL import Image\n",
    "\n",
    "import torch\n",
    "import torch.nn as nn\n",
    "import torch.optim as optim\n",
    "import torch.nn.functional as F\n",
    "import torchvision.transforms as T\n",
    "\n",
    "# set up matplotlib\n",
    "is_ipython = 'inline' in matplotlib.get_backend()\n",
    "if is_ipython:\n",
    "    from IPython import display\n",
    "\n",
    "plt.ion()\n",
    "\n",
    "# if gpu is to be used\n",
    "device = torch.device(\"cuda\" if torch.cuda.is_available() else \"cpu\")\n",
    "torch.cuda.empty_cache()\n",
    "#device = \"cpu\""
   ]
  },
  {
   "cell_type": "markdown",
   "metadata": {},
   "source": [
    "Intialize environment along with the matplotlib figure.\n",
    "- DroneCardinal-v0 is the name of the environment to initialize\n",
    "- Rows and columns determine the shape of the environment area\n",
    "- Memory capacity says how many of the last steps shall be remembered and displayed when rendering with 'notebook' mode.\n",
    "- Ax takes a matplotlib plot, which it will plot to if given, otherwise plot to the default pyplot. This makes it so we can have the rendering of the playing as a matplotlib subplot."
   ]
  },
  {
   "cell_type": "code",
   "execution_count": 3,
   "metadata": {},
   "outputs": [
    {
     "data": {
      "text/plain": [
       "(0, array([9, 7, 5, 8]))"
      ]
     },
     "execution_count": 3,
     "metadata": {},
     "output_type": "execute_result"
    },
    {
     "data": {
      "image/png": "[encoded data removed]",
      "text/plain": [
       "<Figure size 2160x1008 with 4 Axes>"
      ]
     },
     "metadata": {
      "needs_background": "light"
     },
     "output_type": "display_data"
    }
   ],
   "source": [
    "fig, ax = plt.subplots(nrows=2, ncols=2)\n",
    "fig.set_figwidth(30)\n",
    "fig.set_figheight(14)\n",
    "\n",
    "grid_shape = (40, 40)\n",
    "env = gym.make('Waypoint-v0',\n",
    "               rows=grid_shape[0],\n",
    "               columns=grid_shape[1],\n",
    "               memory_capacity=50,\n",
    "               ax=ax[1][0]).unwrapped\n",
    "env.reset()"
   ]
  },
  {
   "cell_type": "markdown",
   "metadata": {},
   "source": [
    "Set up the ReplayMemory object type. \n",
    "\n",
    "It is how transitions in the environment is stored, and randomly given back with the sample function, to train the neural network."
   ]
  },
  {
   "cell_type": "code",
   "execution_count": 24,
   "metadata": {},
   "outputs": [],
   "source": [
    "resize = T.Compose([T.ToPILImage(),\n",
    "                    #T.Resize(40, interpolation=Image.CUBIC),\n",
    "                    #T.Resize(40),\n",
    "                    T.Resize(40),\n",
    "                    T.ToTensor()])\n",
    "\n",
    "pos_blur_size = 10\n",
    "goal_blur_size = 10\n",
    "white_channel = np.zeros(grid_shape)\n",
    "\n",
    "screen = env.render(mode='rgb_array')\n",
    "last_drone_pos = tuple(env._get_obs()[:2])\n",
    "last_goal_pos = tuple(env._get_obs()[2:])\n",
    "def get_screen(new_episode=False):\n",
    "    global screen, last_drone_pos, last_goal_pos\n",
    "    drone_pos = tuple(env._get_obs()[:2])\n",
    "    goal_pos = tuple(env._get_obs()[2:])\n",
    "    \n",
    "    if new_episode:\n",
    "        screen = env.render(mode='rgb_array')\n",
    "        screen[:, :, 0] = white_channel\n",
    "        deblur_position(last_goal_pos, goal_blur_size, 2)\n",
    "        blur_position(goal_pos, goal_blur_size, 2)\n",
    "        last_goal_pos = goal_pos\n",
    "    \n",
    "    deblur_position(last_drone_pos, pos_blur_size, 1)\n",
    "    blur_position(drone_pos, pos_blur_size, 1)\n",
    "    \n",
    "    last_drone_pos = drone_pos\n",
    "    last_goal_pos = goal_pos\n",
    "    \n",
    "    # blur grid\n",
    "    #screen = blur_grid(screen)\n",
    "    # recenter around drone\n",
    "    #screen = recenter_grid_on_position(screen)\n",
    "    # set the red channel (height) to zero\n",
    "    \n",
    "    output = screen.transpose((2, 0, 1))\n",
    "    _, screen_height, screen_width = output.shape\n",
    "    output = np.ascontiguousarray(screen, dtype=np.float32) / 255\n",
    "    output = torch.from_numpy(output)\n",
    "    output = output.type(torch.FloatTensor)\n",
    "    return resize(screen).unsqueeze(0).to(device)\n",
    "\n",
    "def blur_position(position, blur_radius, channel):\n",
    "    global screen\n",
    "    size_x, size_y = screen[:, :, channel].shape\n",
    "    for d_x in range(blur_radius * 2 + 1):\n",
    "        d_x -= blur_radius\n",
    "        for d_y in range(blur_radius * 2 + 1):\n",
    "            d_y -= blur_radius\n",
    "            # If the distance to the point is greater than the\n",
    "            # distance to be blurred, skip this cell.\n",
    "            distance = abs(d_x) + abs(d_y)\n",
    "            if distance > blur_radius:\n",
    "                continue\n",
    "            x, y = position\n",
    "            x += d_x\n",
    "            y += d_y\n",
    "            # Check if index is inside grid\n",
    "            if x < 0 or x >= size_x or y < 0 or y >= size_y:\n",
    "                continue\n",
    "            screen[x, y, channel] = 255 / (distance + 1)\n",
    "            \n",
    "def deblur_position(position, blur_radius, channel):\n",
    "    global screen\n",
    "    size_x, size_y = screen[:, :, channel].shape\n",
    "    for d_x in range(blur_radius * 2 + 1):\n",
    "        d_x -= blur_radius\n",
    "        for d_y in range(blur_radius * 2 + 1):\n",
    "            d_y -= blur_radius\n",
    "            x, y = position\n",
    "            x += d_x\n",
    "            y += d_y\n",
    "            # Check if index is inside grid\n",
    "            if x < 0 or x >= size_x or y < 0 or y >= size_y:\n",
    "                continue\n",
    "            screen[x, y, channel] = 0\n",
    "\n",
    "def recenter_grid_on_position(rgb_array):\n",
    "    rows, columns = grid_shape\n",
    "    drone_pos = env._drone_pos\n",
    "    drone_x, drone_y = drone_pos\n",
    "    offset_x = (columns - 1) - drone_x\n",
    "    offset_y = (rows - 1) - drone_y\n",
    "    \n",
    "    new_grid = np.zeros((rows * 2 - 1, columns * 2 - 1, 3)) + 255\n",
    "    for x, column in enumerate(rgb_array):\n",
    "        for y, row in enumerate(column):\n",
    "            for channel, cell in enumerate(row):\n",
    "                #new_grid[x + offset_x, y + offset_y, channel] = #rgb_array[x, y, channel]\n",
    "                new_grid[x + offset_x, y + offset_y, channel] = cell\n",
    "    return new_grid"
   ]
  },
  {
   "cell_type": "code",
   "execution_count": 25,
   "metadata": {},
   "outputs": [
    {
     "data": {
      "image/png": "[encoded data removed]",
      "text/plain": [
       "<Figure size 432x288 with 1 Axes>"
      ]
     },
     "metadata": {
      "needs_background": "light"
     },
     "output_type": "display_data"
    }
   ],
   "source": [
    "plt.imshow(np.swapaxes(np.swapaxes(np.squeeze(np.asarray(get_screen().cpu()), 0), 0, 2), 0, 1))\n",
    "plt.axis('off')\n",
    "plt.show()"
   ]
  },
  {
   "cell_type": "code",
   "execution_count": 26,
   "metadata": {},
   "outputs": [
    {
     "data": {
      "image/png": "[encoded data removed]",
      "text/plain": [
       "<Figure size 432x288 with 1 Axes>"
      ]
     },
     "metadata": {
      "needs_background": "light"
     },
     "output_type": "display_data"
    }
   ],
   "source": [
    "env.step(1)\n",
    "plt.imshow(env.render(mode='rgb_array'))\n",
    "plt.show()"
   ]
  },
  {
   "cell_type": "code",
   "execution_count": 31,
   "metadata": {},
   "outputs": [],
   "source": [
    "BATCH_SIZE = 128\n",
    "GAMMA = 0.9\n",
    "#GAMMA = 0.1\n",
    "EPS_START = 0.9\n",
    "EPS_END = 0.2\n",
    "#EPS_END = 0.0\n",
    "EPS_DECAY = 40000\n",
    "TARGET_UPDATE = 10\n",
    "\n",
    "# Get screen size so that we can initialize layers correctly based on shape\n",
    "# returned from AI gym. Typical dimensions at this point are close to 3x40x90\n",
    "# which is the result of a clamped and down-scaled render buffer in get_screen()\n",
    "init_screen = env.render(mode='rgb_array')\n",
    "screen_height, screen_width, _ = init_screen.shape\n",
    "\n",
    "# Get number of actions from gym action space\n",
    "n_actions = env.action_space.n\n",
    "\n",
    "#policy_net = DQN(screen_height, screen_width, n_actions).to(device)\n",
    "#target_net = DQN(screen_height, screen_width, n_actions).to(device)\n",
    "#target_net.load_state_dict(policy_net.state_dict())\n",
    "#target_net.eval()\n",
    "\n",
    "#optimizer = optim.RMSprop(policy_net.parameters())\n",
    "#memory = ReplayMemory(10000)\n",
    "\n",
    "# Reset these whenever \n",
    "episode_durations = []\n",
    "episode_rewards = []\n",
    "episode_best_reward = []"
   ]
  },
  {
   "cell_type": "code",
   "execution_count": 4,
   "metadata": {},
   "outputs": [],
   "source": [
    "steps_done = 0\n",
    "def select_action(state):\n",
    "    global steps_done, q_table\n",
    "    sample = random.random()\n",
    "    eps_threshold = EPS_END + (EPS_START - EPS_END) * \\\n",
    "        math.exp(-1. * steps_done / EPS_DECAY)\n",
    "    steps_done += 1\n",
    "    if sample > eps_threshold:\n",
    "        state = get_state()\n",
    "        return np.argmax(q_table[state])\n",
    "    else:\n",
    "        return random.randrange(n_actions)"
   ]
  },
  {
   "cell_type": "code",
   "execution_count": 5,
   "metadata": {},
   "outputs": [],
   "source": [
    "episode_durations = []\n",
    "episode_rewards = []\n",
    "episode_best_reward = []\n",
    "def plot_durations():\n",
    "    # Plot episode durations\n",
    "    ax[0][0].cla()\n",
    "    durations_t = torch.tensor(episode_durations, dtype=torch.float)\n",
    "    ax[0][0].set_xlabel('Episode')\n",
    "    ax[0][0].set_ylabel('Duration')\n",
    "    ax[0][0].plot(durations_t.numpy())\n",
    "    # Take 100 episode averages and plot them too\n",
    "    if len(durations_t) >= 100:\n",
    "        means = durations_t.unfold(0, 100, 1).mean(1).view(-1)\n",
    "        means = torch.cat((torch.zeros(99), means))\n",
    "        ax[0][0].plot(means.numpy())\n",
    "        \n",
    "    # Plot episode rewards\n",
    "    ax[0][1].cla()\n",
    "    rewards_t = torch.tensor(episode_rewards, dtype=torch.float)\n",
    "    best_rewards_t = torch.tensor(episode_best_reward, dtype=torch.float)\n",
    "    ax[0][1].set_xlabel('Episode')\n",
    "    ax[0][1].set_ylabel('Reward')\n",
    "    ax[0][1].plot(rewards_t.numpy())\n",
    "    ax[0][1].plot(best_rewards_t.numpy())\n",
    "    if len(rewards_t) >= 100:\n",
    "        means = rewards_t.unfold(0, 100, 1).mean(1).view(-1)\n",
    "        means = torch.cat((torch.zeros(99), means))\n",
    "        ax[0][1].plot(means.numpy())\n",
    "    \n",
    "    # Plot environment\n",
    "    env.render()\n",
    "\n",
    "    # Plot environment as seen by the agent\n",
    "    ax[1][1].imshow(np.swapaxes(np.swapaxes(np.squeeze(np.asarray(get_screen().cpu()), 0), 0, 2), 0, 1))\n",
    "    ax[1][1].axis('off')\n",
    "    \n",
    "    # pause a bit so that plots are updated\n",
    "    plt.pause(0.001)\n",
    "    if is_ipython:\n",
    "        display.clear_output(wait=True)\n",
    "        display.display(fig)\n"
   ]
  },
  {
   "cell_type": "markdown",
   "metadata": {},
   "source": [
    "Q-Learning thing\n",
    "==="
   ]
  },
  {
   "cell_type": "code",
   "execution_count": 11,
   "metadata": {},
   "outputs": [
    {
     "ename": "TypeError",
     "evalue": "encode() takes 1 positional argument but 3 were given",
     "output_type": "error",
     "traceback": [
      "\u001b[0;31m---------------------------------------------------------------------------\u001b[0m",
      "\u001b[0;31mTypeError\u001b[0m                                 Traceback (most recent call last)",
      "\u001b[0;32m<ipython-input-11-0e69c0ec7179>\u001b[0m in \u001b[0;36m<module>\u001b[0;34m\u001b[0m\n\u001b[1;32m     32\u001b[0m     \u001b[0;32mreturn\u001b[0m \u001b[0mencode\u001b[0m\u001b[0;34m(\u001b[0m\u001b[0mstate\u001b[0m\u001b[0;34m[\u001b[0m\u001b[0;36m0\u001b[0m\u001b[0;34m]\u001b[0m\u001b[0;34m,\u001b[0m \u001b[0mstate\u001b[0m\u001b[0;34m[\u001b[0m\u001b[0;36m1\u001b[0m\u001b[0;34m]\u001b[0m\u001b[0;34m,\u001b[0m \u001b[0mgoal_index\u001b[0m\u001b[0;34m)\u001b[0m\u001b[0;34m\u001b[0m\u001b[0;34m\u001b[0m\u001b[0m\n\u001b[1;32m     33\u001b[0m \u001b[0;34m\u001b[0m\u001b[0m\n\u001b[0;32m---> 34\u001b[0;31m \u001b[0mq_table\u001b[0m \u001b[0;34m=\u001b[0m \u001b[0mnp\u001b[0m\u001b[0;34m.\u001b[0m\u001b[0mzeros\u001b[0m\u001b[0;34m(\u001b[0m\u001b[0;34m(\u001b[0m\u001b[0mencode\u001b[0m\u001b[0;34m(\u001b[0m\u001b[0mgrid_shape\u001b[0m\u001b[0;34m[\u001b[0m\u001b[0;36m0\u001b[0m\u001b[0;34m]\u001b[0m \u001b[0;34m-\u001b[0m \u001b[0;36m1\u001b[0m\u001b[0;34m,\u001b[0m \u001b[0mgrid_shape\u001b[0m\u001b[0;34m[\u001b[0m\u001b[0;36m1\u001b[0m\u001b[0;34m]\u001b[0m \u001b[0;34m-\u001b[0m \u001b[0;36m1\u001b[0m\u001b[0;34m,\u001b[0m \u001b[0;36m3\u001b[0m\u001b[0;34m)\u001b[0m \u001b[0;34m+\u001b[0m \u001b[0;36m1\u001b[0m\u001b[0;34m,\u001b[0m \u001b[0;36m4\u001b[0m\u001b[0;34m)\u001b[0m\u001b[0;34m)\u001b[0m \u001b[0;34m+\u001b[0m \u001b[0;36m1\u001b[0m\u001b[0;34m\u001b[0m\u001b[0;34m\u001b[0m\u001b[0m\n\u001b[0m",
      "\u001b[0;31mTypeError\u001b[0m: encode() takes 1 positional argument but 3 were given"
     ]
    }
   ],
   "source": [
    "#possible_start_points = [(5,5), (grid_shape[0] - 5, 5), (5, grid_shape[1] - 5), (grid_shape[0] - 5, grid_shape[1] - 5)]\n",
    "LEARNING_RATE = 0.25\n",
    "\n",
    "obs_space = [env.observation_space[0].n] + list(env.observation_space[1].nvec)\n",
    "def encode(state_tuple):\n",
    "    state = [state[0]] + list(state[1])\n",
    "    n = 0\n",
    "    for i, o in zip(state, obs_space):\n",
    "        state += i\n",
    "        state *= o\n",
    "    return state\n",
    "#    state = drone_x\n",
    "#    state *= grid_shape[0]\n",
    "#    state += drone_y\n",
    "#    state *= grid_shape[1]\n",
    "#    state += goal_index\n",
    "#    return state\n",
    "\n",
    "#def decode(state):\n",
    "#    out = []\n",
    "#    out.append(state % grid_shape[1])\n",
    "#    state = state // grid_shape[1]\n",
    "#    out.append(state % grid_shape[0])\n",
    "#    state = state // grid_shape[0]\n",
    "#    out.append(state)\n",
    "#    return list(reversed(out))\n",
    "\n",
    "def get_state():\n",
    "    state = env._get_obs()\n",
    "    goal_index = possible_start_points.index(tuple(state[2:]))\n",
    "    return encode(state[0], state[1], goal_index)\n",
    "\n",
    "q_table = np.zeros((encode(grid_shape[0] - 1, grid_shape[1] - 1, 3) + 1, 4)) + 1"
   ]
  },
  {
   "cell_type": "markdown",
   "metadata": {},
   "source": [
    "---"
   ]
  },
  {
   "cell_type": "code",
   "execution_count": 7,
   "metadata": {},
   "outputs": [],
   "source": [
    "def optimize_model():\n",
    "    if len(memory) < BATCH_SIZE:\n",
    "        return\n",
    "    transitions = memory.sample(BATCH_SIZE)\n",
    "    # Transpose the batch (see https://stackoverflow.com/a/19343/3343043 for\n",
    "    # detailed explanation). This converts batch-array of Transitions\n",
    "    # to Transition of batch-arrays.\n",
    "    batch = Transition(*zip(*transitions))\n",
    "\n",
    "    # Compute a mask of non-final states and concatenate the batch elements\n",
    "    # (a final state would've been the one after which simulation ended)\n",
    "    non_final_mask = torch.tensor(tuple(map(lambda s: s is not None,\n",
    "                                            batch.next_state)), device=device, dtype=torch.bool)\n",
    "    non_final_next_states = torch.cat([s for s in batch.next_state\n",
    "                                       if s is not None])\n",
    "    state_batch = torch.cat(batch.state)\n",
    "    action_batch = torch.cat(batch.action)\n",
    "    reward_batch = torch.cat(batch.reward)\n",
    "\n",
    "    # Compute Q(s_t, a) - the model computes Q(s_t), then we select the\n",
    "    # columns of actions taken. These are the actions which would've been taken\n",
    "    # for each batch state according to policy_net\n",
    "    state_action_values = policy_net(state_batch).gather(1, action_batch)\n",
    "\n",
    "    # Compute V(s_{t+1}) for all next states.\n",
    "    # Expected values of actions for non_final_next_states are computed based\n",
    "    # on the \"older\" target_net; selecting their best reward with max(1)[0].\n",
    "    # This is merged based on the mask, such that we'll have either the expected\n",
    "    # state value or 0 in case the state was final.\n",
    "    next_state_values = torch.zeros(BATCH_SIZE, device=device)\n",
    "    next_state_values[non_final_mask] = target_net(non_final_next_states).max(1)[0].detach()\n",
    "    # Compute the expected Q values\n",
    "    expected_state_action_values = (next_state_values * GAMMA) + reward_batch\n",
    "\n",
    "    # Compute Huber loss\n",
    "    loss = F.smooth_l1_loss(state_action_values,\n",
    "                            expected_state_action_values.unsqueeze(1))\n",
    "\n",
    "    # Optimize the model\n",
    "    optimizer.zero_grad()\n",
    "    loss.backward()\n",
    "    for param in policy_net.parameters():\n",
    "        param.grad.data.clamp_(-1, 1)\n",
    "    optimizer.step()"
   ]
  },
  {
   "cell_type": "markdown",
   "metadata": {},
   "source": [
    "Reward Function:\n",
    "===\n",
    "Reward 1 for correct direction, -2 otherwise."
   ]
  },
  {
   "cell_type": "code",
   "execution_count": 10,
   "metadata": {},
   "outputs": [
    {
     "ename": "ValueError",
     "evalue": "not enough values to unpack (expected 4, got 2)",
     "output_type": "error",
     "traceback": [
      "\u001b[0;31m---------------------------------------------------------------------------\u001b[0m",
      "\u001b[0;31mValueError\u001b[0m                                Traceback (most recent call last)",
      "\u001b[0;32m<ipython-input-10-535bcfea19b6>\u001b[0m in \u001b[0;36m<module>\u001b[0;34m\u001b[0m\n\u001b[1;32m     19\u001b[0m     \u001b[0mhighest_grid_value\u001b[0m \u001b[0;34m=\u001b[0m \u001b[0mnp\u001b[0m\u001b[0;34m.\u001b[0m\u001b[0mamax\u001b[0m\u001b[0;34m(\u001b[0m\u001b[0menv\u001b[0m\u001b[0;34m.\u001b[0m\u001b[0m_grid\u001b[0m\u001b[0;34m)\u001b[0m\u001b[0;34m\u001b[0m\u001b[0;34m\u001b[0m\u001b[0m\n\u001b[1;32m     20\u001b[0m     \u001b[0;32mfor\u001b[0m \u001b[0mt\u001b[0m \u001b[0;32min\u001b[0m \u001b[0mcount\u001b[0m\u001b[0;34m(\u001b[0m\u001b[0;34m)\u001b[0m\u001b[0;34m:\u001b[0m\u001b[0;34m\u001b[0m\u001b[0;34m\u001b[0m\u001b[0m\n\u001b[0;32m---> 21\u001b[0;31m         \u001b[0mlast_x\u001b[0m\u001b[0;34m,\u001b[0m \u001b[0mlast_y\u001b[0m\u001b[0;34m,\u001b[0m \u001b[0m_\u001b[0m\u001b[0;34m,\u001b[0m \u001b[0m_\u001b[0m \u001b[0;34m=\u001b[0m \u001b[0menv\u001b[0m\u001b[0;34m.\u001b[0m\u001b[0m_get_obs\u001b[0m\u001b[0;34m(\u001b[0m\u001b[0;34m)\u001b[0m\u001b[0;34m\u001b[0m\u001b[0;34m\u001b[0m\u001b[0m\n\u001b[0m\u001b[1;32m     22\u001b[0m \u001b[0;34m\u001b[0m\u001b[0m\n\u001b[1;32m     23\u001b[0m         \u001b[0;31m# Select and perform an action\u001b[0m\u001b[0;34m\u001b[0m\u001b[0;34m\u001b[0m\u001b[0;34m\u001b[0m\u001b[0m\n",
      "\u001b[0;31mValueError\u001b[0m: not enough values to unpack (expected 4, got 2)"
     ]
    }
   ],
   "source": [
    "num_episodes = 20000000\n",
    "episode_durations = []\n",
    "episode_rewards = []\n",
    "episode_best_reward = []\n",
    "\n",
    "possible_start_points = [(5,5), (grid_shape[0] - 5, 5), (5, grid_shape[1] - 5), (grid_shape[0] - 5, grid_shape[1] - 5)]\n",
    "for i_episode in range(num_episodes):\n",
    "    # Initialize the environment and state\n",
    "    env.reset()\n",
    "    \n",
    "    #env._goal_pos = (5, 5)\n",
    "    #env._goal_pos = random.choice(possible_start_points)\n",
    "    #mistakes = 0\n",
    "    \n",
    "    #state = get_state()\n",
    "    state =env._get_obs()\n",
    "    last_state = state\n",
    "    total_reward = 0\n",
    "    highest_grid_value = np.amax(env._grid)\n",
    "    for t in count():\n",
    "        # Select and perform an action\n",
    "        action = select_action(state)\n",
    "        state, reward, done, _ = env.step(action)\n",
    "        \n",
    "        # Hijack reward calculation (temporary?)\n",
    "        if (drone_x, drone_y) == (goal_x, goal_y):\n",
    "            reward = np.float64(0)\n",
    "        else:\n",
    "            diff = abs(goal_x - drone_x) + abs(goal_y - drone_y)\n",
    "            last_diff = abs(goal_x - last_x) + abs(goal_y - last_y)\n",
    "            if (last_diff > diff):\n",
    "                reward = np.float64(1)\n",
    "            else:\n",
    "                reward = np.float64(0)\n",
    "\n",
    "        total_reward += reward\n",
    "        if t == 0:\n",
    "            episode_best_reward.append(abs(last_x - goal_x) + abs(last_y - goal_y))\n",
    "        if t > 200:\n",
    "            done = True\n",
    "        if reward == 0:\n",
    "            #done = True\n",
    "            mistakes += 1\n",
    "            if mistakes >= 10:\n",
    "                done = True\n",
    "            pass\n",
    "\n",
    "        # Perform one step of the optimization (on the target network)\n",
    "        #optimize_model()\n",
    "        state = get_state()\n",
    "        q_table[last_state][action] += LEARNING_RATE * (reward + GAMMA * np.amax(q_table[state]) - q_table[last_state][action])\n",
    "        \n",
    "        #print(LEARNING_RATE * (reward + GAMMA * np.amax(q_table[state]) - q_table[last_state][action]))\n",
    "        #print(reward + GAMMA * np.amax(q_table[state]) - q_table[last_state][action])\n",
    "        last_state = state\n",
    "        \n",
    "        #if done or mistakes > 10:\n",
    "        if done:\n",
    "            #print(t + 1)\n",
    "            episode_durations.append(t + 1)\n",
    "            # episode_rewards.append(max(total_reward - mistakes, 0))\n",
    "            episode_rewards.append(max(total_reward - mistakes, 0) / episode_best_reward[-1])\n",
    "            episode_best_reward[-1] = 1\n",
    "            if i_episode % 500 == 0: \n",
    "                plot_durations()\n",
    "            break\n",
    "\n",
    "    # Update the target network, copying all weights and biases in DQN\n",
    "    #if i_episode % TARGET_UPDATE == 0:\n",
    "    #    target_net.load_state_dict(policy_net.state_dict())\n",
    "print('Complete')"
   ]
  },
  {
   "cell_type": "code",
   "execution_count": null,
   "metadata": {},
   "outputs": [],
   "source": [
    "edges = get_edges(grid)\n",
    "get_cost(dijkstra(edges, (2,5), (0,0)))\n",
    "#path = get_path(dijkstra_path)"
   ]
  },
  {
   "cell_type": "code",
   "execution_count": null,
   "metadata": {},
   "outputs": [],
   "source": [
    "get_cost(dijkstra(edges, (2,0), (0,0)))"
   ]
  },
  {
   "cell_type": "code",
   "execution_count": 14,
   "metadata": {},
   "outputs": [
    {
     "name": "stdout",
     "output_type": "stream",
     "text": [
      "[13 16  5 35]\n",
      "[[132 129 125 ...  25  29  32]\n",
      " [129 125 122 ...  22  25  29]\n",
      " [125 122 119 ...  19  22  25]\n",
      " ...\n",
      " [219 216 213 ... 112 116 119]\n",
      " [222 219 216 ... 116 119 122]\n",
      " [225 222 219 ... 119 122 125]]\n"
     ]
    }
   ],
   "source": [
    "test = env.render(mode='rgb_array')\n",
    "print(env._get_obs())\n",
    "\n",
    "def blur_grid(rgb_array):\n",
    "    def lattice_distance(a, b):\n",
    "        a_x, a_y = a\n",
    "        b_x, b_y = b\n",
    "        return abs(a_x - b_x) + abs(a_y - b_y)\n",
    "    \n",
    "    red_channel = rgb_array[:,:,2]\n",
    "    goal = tuple(env._get_obs()[2:])\n",
    "    diagonal = env._grid.shape[0] + env._grid.shape[1] - 1\n",
    "    \n",
    "    for x, column in enumerate(red_channel):\n",
    "        for y, cell in enumerate(column):\n",
    "            distance = lattice_distance((x, y), goal)\n",
    "            red_channel[x][y] = (255 / diagonal) * (distance + 1)\n",
    "    rgb_array[:, :, 2] = red_channel\n",
    "    return rgb_array\n",
    "\n",
    "test = blur_grid(test)\n",
    "print(test[:, :, 2])"
   ]
  },
  {
   "cell_type": "code",
   "execution_count": null,
   "metadata": {},
   "outputs": [],
   "source": []
  }
 ],
 "metadata": {
  "kernelspec": {
   "display_name": "Python 3",
   "language": "python",
   "name": "python3"
  },
  "language_info": {
   "codemirror_mode": {
    "name": "ipython",
    "version": 3
   },
   "file_extension": ".py",
   "mimetype": "text/x-python",
   "name": "python",
   "nbconvert_exporter": "python",
   "pygments_lexer": "ipython3",
   "version": "3.7.4"
  }
 },
 "nbformat": 4,
 "nbformat_minor": 4
}
