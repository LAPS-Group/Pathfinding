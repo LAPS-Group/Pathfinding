{
 "cells": [
  {
   "cell_type": "markdown",
   "metadata": {},
   "source": [
    "## Simplified Q-Learning Approach\n",
    "Simplified Q-Learning approach, which does not take consideration to curves or flyability, and the only actions are the four cardinal directions."
   ]
  },
  {
   "cell_type": "markdown",
   "metadata": {},
   "source": [
    "Define the environment. The state of the environment depends on current position (row and column) of the drone, as well as the position (again, row and column) of the destination.\n",
    "There are therefore a total of: \n",
    "$$possible\\_drone\\_positions * possible\\_goal\\_drone\\_positions = (num\\_row * num\\_col)^2$$ possible states.\n",
    "\n",
    "The current state, as calculated by the encode function, is calculated by taking adding the value of each property to the state, then multiplying by the number of possibilities for the next property then adding that as well. Doing this process for all proprties of the state, except not multiplying when having added the last property.\n",
    "\n",
    "The decode function does the exact opposite, it returns a list of values which are the properties that make up the state, by using modulo to do the encoding in reverse."
   ]
  },
  {
   "cell_type": "code",
   "execution_count": 11,
   "metadata": {},
   "outputs": [
    {
     "ename": "IndentationError",
     "evalue": "expected an indented block (<ipython-input-11-73be6f7f75a3>, line 21)",
     "output_type": "error",
     "traceback": [
      "\u001b[0;36m  File \u001b[0;32m\"<ipython-input-11-73be6f7f75a3>\"\u001b[0;36m, line \u001b[0;32m21\u001b[0m\n\u001b[0;31m    def encode(self, drone_row, drone_col, goal_row, goal_column):\u001b[0m\n\u001b[0m    ^\u001b[0m\n\u001b[0;31mIndentationError\u001b[0m\u001b[0;31m:\u001b[0m expected an indented block\n"
     ]
    }
   ],
   "source": [
    "import numpy as np\n",
    "\n",
    "class environment:\n",
    "    \n",
    "    def __init__(self, num_row, num_columns):\n",
    "        self.num_row = num_row\n",
    "        self.num_columns = num_columns\n",
    "        num_states = (num_row * num_columns)**2\n",
    "        num_actions = 4\n",
    "        \n",
    "        self.map = np.zeros((self.num_columns, self.num_row))\n",
    "        \n",
    "        # Declare Q-Table, with as many rows as there are states,\n",
    "        # and columns as there are actions.\n",
    "        P = {state: {action: []\n",
    "                    for action in range(num_actions)} for state in range(num_states)}\n",
    "        for row in range(num_rows):\n",
    "            for col in range(num_columns):\n",
    "                for goal_row in range(num_rows):\n",
    "                    for goal_column in range(num_columns):\n",
    "                        state = self.encode(row, col, goal_row, goal_column)\n",
    "                        if \n",
    "   \n",
    "    def encode(self, drone_row, drone_col, goal_row, goal_column):\n",
    "        i = drone_row\n",
    "        i *= self.num_row\n",
    "        i += drone_column\n",
    "        i *= self.num_columns\n",
    "        i += goal_row\n",
    "        i *= self.num_row\n",
    "        i += goal_column\n",
    "        return i\n",
    "    \n",
    "    def decode(self, i):\n",
    "        out = []\n",
    "        out.append(i % self.num_row)\n",
    "        i = i // self.num_row\n",
    "        out.append(i % self.num_columns)\n",
    "        i = i // self.num_columns\n",
    "        out.append(i % self.num_row)\n",
    "        i = i // self.num_row\n",
    "        out.append(i)\n",
    "        assert 0 <= i < self.num_row\n",
    "        return reversed(out)\n",
    "\n",
    "    def step():\n",
    "        \n",
    "        return\n",
    "    \n",
    "class TestEnvironment:\n",
    "    \n",
    "    def __init__(self):\n",
    "        self.env = environment(256, 256)\n",
    "        \n",
    "    def play(self, action):\n",
    "        if not (0 <= int(action) <= 3):\n",
    "            print(\"Action value must either be 0, 1, 2, or 3\")\n",
    "            return"
   ]
  },
  {
   "cell_type": "code",
   "execution_count": 7,
   "metadata": {},
   "outputs": [
    {
     "ename": "TypeError",
     "evalue": "__init__() missing 2 required positional arguments: 'num_row' and 'num_col'",
     "output_type": "error",
     "traceback": [
      "\u001b[0;31m---------------------------------------------------------------------------\u001b[0m",
      "\u001b[0;31mTypeError\u001b[0m                                 Traceback (most recent call last)",
      "\u001b[0;32m<ipython-input-7-4be8872f2210>\u001b[0m in \u001b[0;36m<module>\u001b[0;34m\u001b[0m\n\u001b[0;32m----> 1\u001b[0;31m \u001b[0mtest\u001b[0m \u001b[0;34m=\u001b[0m \u001b[0mTestEnvironment\u001b[0m\u001b[0;34m(\u001b[0m\u001b[0;34m)\u001b[0m\u001b[0;34m\u001b[0m\u001b[0;34m\u001b[0m\u001b[0m\n\u001b[0m\u001b[1;32m      2\u001b[0m \u001b[0mtest\u001b[0m\u001b[0;34m.\u001b[0m\u001b[0mplay\u001b[0m\u001b[0;34m(\u001b[0m\u001b[0;36m1\u001b[0m\u001b[0;34m)\u001b[0m\u001b[0;34m\u001b[0m\u001b[0;34m\u001b[0m\u001b[0m\n",
      "\u001b[0;32m<ipython-input-6-2921eb8cb5e8>\u001b[0m in \u001b[0;36m__init__\u001b[0;34m(self)\u001b[0m\n\u001b[1;32m     45\u001b[0m \u001b[0;34m\u001b[0m\u001b[0m\n\u001b[1;32m     46\u001b[0m     \u001b[0;32mdef\u001b[0m \u001b[0m__init__\u001b[0m\u001b[0;34m(\u001b[0m\u001b[0mself\u001b[0m\u001b[0;34m)\u001b[0m\u001b[0;34m:\u001b[0m\u001b[0;34m\u001b[0m\u001b[0;34m\u001b[0m\u001b[0m\n\u001b[0;32m---> 47\u001b[0;31m         \u001b[0mself\u001b[0m\u001b[0;34m.\u001b[0m\u001b[0menv\u001b[0m \u001b[0;34m=\u001b[0m \u001b[0menvironment\u001b[0m\u001b[0;34m(\u001b[0m\u001b[0;34m)\u001b[0m\u001b[0;34m\u001b[0m\u001b[0;34m\u001b[0m\u001b[0m\n\u001b[0m\u001b[1;32m     48\u001b[0m \u001b[0;34m\u001b[0m\u001b[0m\n\u001b[1;32m     49\u001b[0m     \u001b[0;32mdef\u001b[0m \u001b[0mplay\u001b[0m\u001b[0;34m(\u001b[0m\u001b[0mself\u001b[0m\u001b[0;34m,\u001b[0m \u001b[0maction\u001b[0m\u001b[0;34m)\u001b[0m\u001b[0;34m:\u001b[0m\u001b[0;34m\u001b[0m\u001b[0;34m\u001b[0m\u001b[0m\n",
      "\u001b[0;31mTypeError\u001b[0m: __init__() missing 2 required positional arguments: 'num_row' and 'num_col'"
     ]
    }
   ],
   "source": [
    "test = TestEnvironment()\n",
    "test.play(1)"
   ]
  },
  {
   "cell_type": "markdown",
   "metadata": {},
   "source": [
    "### Tests"
   ]
  },
  {
   "cell_type": "code",
   "execution_count": 34,
   "metadata": {},
   "outputs": [
    {
     "name": "stderr",
     "output_type": "stream",
     "text": [
      "test_decode (__main__.TestNotebook) ... ok\n",
      "test_encode (__main__.TestNotebook) ... ok\n",
      "\n",
      "----------------------------------------------------------------------\n",
      "Ran 2 tests in 0.011s\n",
      "\n",
      "OK\n"
     ]
    },
    {
     "data": {
      "text/plain": [
       "<unittest.main.TestProgram at 0x7f1bd1332be0>"
      ]
     },
     "execution_count": 34,
     "metadata": {},
     "output_type": "execute_result"
    }
   ],
   "source": [
    "import unittest\n",
    "\n",
    "class TestNotebook(unittest.TestCase):\n",
    "    \n",
    "    def test_encode(self):\n",
    "        test_env = environment(8, 8)\n",
    "        self.assertEqual(test_env.encode(7, 7, 7, 7), 8**4 - 1)\n",
    "        \n",
    "    def test_decode(self):\n",
    "        test_env = environment(8, 8)\n",
    "        self.assertEqual([i for i in test_env.decode(test_env.encode(1, 2, 3, 4))], [1, 2, 3, 4])\n",
    "\n",
    "unittest.main(argv=[''], verbosity=2, exit=False)"
   ]
  }
 ],
 "metadata": {
  "kernelspec": {
   "display_name": "Python 3",
   "language": "python",
   "name": "python3"
  },
  "language_info": {
   "codemirror_mode": {
    "name": "ipython",
    "version": 3
   },
   "file_extension": ".py",
   "mimetype": "text/x-python",
   "name": "python",
   "nbconvert_exporter": "python",
   "pygments_lexer": "ipython3",
   "version": "3.6.9"
  }
 },
 "nbformat": 4,
 "nbformat_minor": 4
}
