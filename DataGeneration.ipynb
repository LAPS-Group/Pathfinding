{
 "cells": [
  {
   "cell_type": "markdown",
   "metadata": {},
   "source": [
    "# DeepStart data genertion\n",
    "\n",
    "This program creates training data for deepstar usng the dijkstra algorithm on a randomly generated perlin noise heightmap.\n",
    "\n",
    "## Import python modules"
   ]
  },
  {
   "cell_type": "code",
   "execution_count": 1,
   "metadata": {
    "scrolled": true
   },
   "outputs": [],
   "source": [
    "import os\n",
    "import random\n",
    "import noise\n",
    "import math\n",
    "import time\n",
    "import matplotlib as plt\n",
    "import numpy as np\n",
    "from PIL import Image\n",
    "from IPython.display import clear_output"
   ]
  },
  {
   "cell_type": "markdown",
   "metadata": {},
   "source": [
    "## Data generation options\n",
    "\n",
    "#### Data settings\n",
    "**Shape**: Image dimensions in pixels.<br>\n",
    "**Output**: Output folder path for images.<br>\n",
    "**Images**: How many images to generate.<br>\n",
    "\n",
    "#### Noise settings\n",
    "**Scale**: Noise scale.<br>\n",
    "**Octaves**: How many times to apply the noise.<br>\n",
    "**Persistence**: How much the noise amplitue changes for each octave.<br>\n",
    "**Lacunarity**: How much the noise frequency changes for each octave."
   ]
  },
  {
   "cell_type": "code",
   "execution_count": 2,
   "metadata": {},
   "outputs": [],
   "source": [
    "shape = (256, 256)\n",
    "output = \"data/\"\n",
    "images = 1\n",
    "\n",
    "scale = 100.0\n",
    "octaves = 6\n",
    "persistence = 0.5\n",
    "lacunarity = 2.0"
   ]
  },
  {
   "cell_type": "markdown",
   "metadata": {},
   "source": [
    "## Node class\n",
    "\n",
    "Class to keep information used by the dijkstra algorithm. The move cost return how much it will cost to move from this node to another. Now it is calculated as the height difference between the two pluss a small constant to make sure it will take the shortest path along a flat plane."
   ]
  },
  {
   "cell_type": "code",
   "execution_count": 3,
   "metadata": {},
   "outputs": [],
   "source": [
    "class Node:\n",
    "    def __init__(self,value,point):\n",
    "        self.value = value\n",
    "        self.dist = 999999\n",
    "        self.point = point\n",
    "        self.parent = None\n",
    "        self.H = 0\n",
    "        self.G = 0\n",
    "\n",
    "    def move_cost(self,other):\n",
    "        if self.value > other.value:\n",
    "            return self.value - other.value + 0.01\n",
    "        else:\n",
    "            return other.value - self.value + 0.01"
   ]
  },
  {
   "cell_type": "markdown",
   "metadata": {},
   "source": [
    "## Define helper functions\n",
    "\n",
    "**Children**: Returns all neighbour nodes for any given nodes.<br>\n",
    "**Get Height**: Returns the perlin noise at (i, j) with the given settings.<br>\n",
    "**Pretty Print**: Display progress information in a visually pleasing way."
   ]
  },
  {
   "cell_type": "code",
   "execution_count": 4,
   "metadata": {},
   "outputs": [],
   "source": [
    "def children(point,grid):\n",
    "    x,y = point.point\n",
    "    liste = []\n",
    "    if x-1 > 0:\n",
    "        liste.append((x-1, y))\n",
    "    if x+1 < shape[0]:\n",
    "        liste.append((x+1, y))\n",
    "    if y-1 > 0:\n",
    "        liste.append((x, y-1))\n",
    "    if y+1 < shape[1]:\n",
    "        liste.append((x, y+1))\n",
    "\n",
    "    return [grid[d[0]][d[1]] for d in liste]\n",
    "\n",
    "def get_height(i, j):\n",
    "    return noise.pnoise2(i/scale, j/scale, octaves=octaves, persistence=persistence, lacunarity=lacunarity, repeatx=shape[0], repeaty=shape[1], base=0)\n",
    "\n",
    "def pretty_print(images, progress):\n",
    "    line_len = 41 + len(str(images))\n",
    "    progress_line_len = 24\n",
    "    bar_len = line_len - progress_line_len + 1\n",
    "\n",
    "    percent = int(progress * 100);\n",
    "    \n",
    "    print(\"=\" * line_len)\n",
    "    print(f'== Starting data generation of {images} image{(\"s\" if images != 1 else \"\")} ==')\n",
    "    print(\"=\" * line_len)\n",
    "    print(f'== Progress: {\" \" * (2 - len(str(percent)))}{percent}% == {\"#\" * math.floor(bar_len * progress)}{\" \" * math.ceil(bar_len * (1 - progress))} ==')\n",
    "    print(\"=\" * line_len)"
   ]
  },
  {
   "cell_type": "markdown",
   "metadata": {},
   "source": [
    "## Dijkstra algorithim implementation\n",
    "\n",
    "Dijkstra is the algorithm used for this data generation. Here is it explained via psuedo code from wikipedia."
   ]
  },
  {
   "cell_type": "code",
   "execution_count": 5,
   "metadata": {},
   "outputs": [],
   "source": [
    "def djikstra(start, goal, grid):\n",
    "    start.dist = 0\n",
    "\n",
    "    openset = set()\n",
    "\n",
    "    visited = {}\n",
    "    current = start\n",
    "    while True:\n",
    "        if current == goal:\n",
    "            path = []\n",
    "            while current.parent:\n",
    "                path.append(current)\n",
    "                current = current.parent\n",
    "\n",
    "            return path\n",
    "\n",
    "        for n in children(current, grid):\n",
    "            if (not visited.__contains__(n)):\n",
    "                openset.add(n)\n",
    "                if n.dist > current.dist + n.move_cost(current):\n",
    "                    n.dist = current.dist + n.move_cost(current)\n",
    "                    n.parent = current\n",
    "\n",
    "        if (len(openset) == 0):\n",
    "            return\n",
    "                    \n",
    "        visited[current] = current\n",
    "        current = min(openset, key=lambda n: n.dist)\n",
    "        openset.remove(current)"
   ]
  },
  {
   "cell_type": "markdown",
   "metadata": {},
   "source": [
    "## Data generation"
   ]
  },
  {
   "cell_type": "code",
   "execution_count": 6,
   "metadata": {
    "scrolled": true
   },
   "outputs": [
    {
     "name": "stdout",
     "output_type": "stream",
     "text": [
      "==========================================\n",
      "== Starting data generation of 1 image ==\n",
      "==========================================\n",
      "== Progress: 100% == ################### ==\n",
      "==========================================\n"
     ]
    }
   ],
   "source": [
    "start = (random.randrange(2, shape[1] - 2), random.randrange(2, shape[1] - 2))\n",
    "end = (random.randrange(2, shape[1] - 2), random.randrange(2, shape[1] - 2))\n",
    "prev_progress = 0\n",
    "\n",
    "pretty_print(images, 0)\n",
    "for image in range(images):\n",
    "    im = Image.new(\"RGB\", shape, \"#00FF00\")\n",
    "    pixels = im.load()\n",
    "\n",
    "    world = []\n",
    "    for i in range(shape[0]):\n",
    "        world.append([])\n",
    "        for j in range(shape[1]):\n",
    "            n = get_height(i, j)\n",
    "            n += 1\n",
    "            n /= 2\n",
    "\n",
    "            world[i].append(Node(n, (i, j)))\n",
    "\n",
    "    path = djikstra(world[start[0]][start[1]], world[end[0]][end[1]], world)\n",
    "    if path is None:\n",
    "        continue\n",
    "    \n",
    "    midpoint = path[math.floor(len(path) / 2)]\n",
    "\n",
    "    for i in range(shape[0]):\n",
    "        for j in range(shape[1]):\n",
    "            intNoise = int(world[i][j].value * 255)\n",
    "            pixels[i, j] = (intNoise, 0, 0)\n",
    "\n",
    "    im.paste((0, 255, 0), (start[0] -1, start[1] -1, start[0], start[1]))\n",
    "    im.paste((0, 0, 255), (end[0] -1, end[1] -1, end[0], end[1]))\n",
    "    im.save(output + \"{0}_{1}_confirm.png\".format(midpoint.point[0], midpoint.point[1], image))\n",
    "\n",
    "    progress = round(((image + 1) / images), 2)\n",
    "    if (progress != prev_progress):\n",
    "        clear_output(wait=False)\n",
    "        pretty_print(images, progress)\n",
    "        prev_progress = progress\n",
    "\n",
    "    start = (random.randrange(0, shape[1] - 0), random.randrange(0, shape[1] - 0))\n",
    "    end = (random.randrange(0, shape[1] - 0), random.randrange(0, shape[1] - 0))"
   ]
  }
 ],
 "metadata": {
  "kernelspec": {
   "display_name": "Python 3",
   "language": "python",
   "name": "python3"
  },
  "language_info": {
   "codemirror_mode": {
    "name": "ipython",
    "version": 3
   },
   "file_extension": ".py",
   "mimetype": "text/x-python",
   "name": "python",
   "nbconvert_exporter": "python",
   "pygments_lexer": "ipython3",
   "version": "3.6.9"
  }
 },
 "nbformat": 4,
 "nbformat_minor": 4
}
