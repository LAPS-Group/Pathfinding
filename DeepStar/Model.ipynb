{
 "cells": [
  {
   "cell_type": "code",
   "execution_count": 1,
   "metadata": {},
   "outputs": [],
   "source": [
    "import time, onnx, torch, torchvision\n",
    "import os, glob, torch, csv\n",
    "import torch.nn as nn\n",
    "import pandas as pd\n",
    "import torch.optim as optim\n",
    "import torch.nn.functional as F\n",
    "import torch.utils.data as utils\n",
    "\n",
    "from torchvision import transforms\n",
    "from PIL import Image"
   ]
  },
  {
   "cell_type": "markdown",
   "metadata": {},
   "source": [
    "## DeepStart network definition\n",
    "\n",
    "DeepStar consists of two layer of max pooled convolutional neural networks that is then fed into two layers of normal neural networks."
   ]
  },
  {
   "cell_type": "code",
   "execution_count": 2,
   "metadata": {},
   "outputs": [],
   "source": [
    "class DeepStar(nn.Module):\n",
    "    def __init__(self):\n",
    "        super(DeepStar, self).__init__()\n",
    "        self.conv1 = nn.Conv2d(1, 64, kernel_size=8, stride=2, padding=3)\n",
    "        self.pool1 = nn.MaxPool2d(kernel_size=2, stride=2, padding=0)\n",
    "        \n",
    "        self.conv2 = nn.Conv2d(64, 32, kernel_size=2, stride=2, padding=0)\n",
    "        self.pool2 = nn.MaxPool2d(kernel_size=2, stride=2, padding=0)\n",
    "        \n",
    "        #self.conv_dropout = nn.Dropout2d()\n",
    "\n",
    "        self.fc1 = torch.nn.Linear(32 * 16 * 16 + 4, 64)\n",
    "        self.fc2 = torch.nn.Linear(64 + 4, 2)\n",
    "        \n",
    "    def __name__(self):\n",
    "        return \"DeepStar\"\n",
    "    \n",
    "    def get_loss(self):\n",
    "        return torch.nn.L1Loss()\n",
    "        \n",
    "    def get_optim(self, rho, lr, weight_decay):\n",
    "        return optim.Adadelta(self.parameters(), rho=rho, lr=lr, weight_decay=weight_decay)\n",
    "        \n",
    "    def forward(self, x):\n",
    "        #pos_tensor = torch.tensor(x[0]).float().view(-1, 4)\n",
    "        pos_tensor = x[0]\n",
    "        \n",
    "        print(1)\n",
    "        x = F.relu(self.conv1(x[1]))\n",
    "        x = self.pool1(x)\n",
    "        print(2)\n",
    "        \n",
    "        x = F.relu(self.conv2(x))\n",
    "        x = self.pool2(x)\n",
    "        \n",
    "        #x = F.relu(self.conv3(x))\n",
    "        #x = self.pool3(x)\n",
    "        \n",
    "        print(3)\n",
    "        #x = self.conv_dropout(x)\n",
    "        x = x.view(-1, 32 * 16 * 16)\n",
    "        \n",
    "        print(x)\n",
    "        print(pos_tensor)\n",
    "        x = torch.cat((x, pos_tensor), 1)\n",
    "        \n",
    "        print(4)\n",
    "        x = F.relu(self.fc1(x))\n",
    "        x = self.fc2(torch.cat((x, pos_tensor), 1))\n",
    "        \n",
    "        return x"
   ]
  },
  {
   "cell_type": "markdown",
   "metadata": {},
   "source": [
    "## DataLoader\n",
    "\n",
    "Because we use a custom dataset we have to have a custom data loader. The image has a heightmap in the first axis and the second and third axis represents the start and end point. The image name also contains the correct midpoint for that image."
   ]
  },
  {
   "cell_type": "code",
   "execution_count": 3,
   "metadata": {},
   "outputs": [],
   "source": [
    "class OldPathDataLoader(utils.Dataset):\n",
    "    def __init__(self, data_dir):\n",
    "        self.data_dir = data_dir\n",
    "        self.files = glob.glob(data_dir + \"*.png\")\n",
    "        self.to_tensor = transforms.ToTensor()\n",
    "        \n",
    "    def __len__(self):\n",
    "        return len(self.files)\n",
    "    \n",
    "    def __getitem__(self, idx):\n",
    "        file_path = self.files[idx]\n",
    "        \n",
    "        image_name = os.path.basename(file_path)\n",
    "        img_as_img = Image.open(file_path)\n",
    "        img_as_tensor = self.to_tensor(img_as_img)\n",
    "        \n",
    "        numbers = image_name.replace(\".png\",\"\").split(\"_\")\n",
    "        \n",
    "        x = float(numbers[0]) / 256.0\n",
    "        y = float(numbers[1]) / 256.0\n",
    "        \n",
    "        return (img_as_tensor, [x, y])"
   ]
  },
  {
   "cell_type": "code",
   "execution_count": 4,
   "metadata": {},
   "outputs": [],
   "source": [
    "class PathDataLoader(utils.Dataset):\n",
    "    def __init__(self, data_dir):\n",
    "        self.map = f'{data_dir}/map.png'\n",
    "        self.data_path = f'{data_dir}/data.csv'\n",
    "        self.to_tensor = transforms.ToTensor()\n",
    "        self.data = pd.read_csv(self.data_path, encoding = \"UTF-8\")\n",
    "    \n",
    "    def __len__(self):\n",
    "        return len(self.data[\"Start\"])\n",
    "    \n",
    "    def __getitem__(self, idx):\n",
    "        with Image.open(self.map) as img:\n",
    "            sx, sy = self.to_tuple(self.data[\"Start\"][idx])\n",
    "            ex, ey = self.to_tuple(self.data[\"Stop\"][idx])\n",
    "            mx, my = self.to_tuple(self.data[\"Midpoint\"][idx])\n",
    "\n",
    "            img_tensor = self.to_tensor(img)\n",
    "            \n",
    "            sx, sy, ex, ey = 0.5\n",
    "\n",
    "            return ([[sx / 256, sy / 256, ex / 256, ey / 256], img_tensor], (mx / 256, my / 256))\n",
    "    \n",
    "    def to_tuple(self, t):\n",
    "        return tuple(map(int, t.replace('(','').replace(')', '').split(', '))) "
   ]
  }
 ],
 "metadata": {
  "kernelspec": {
   "display_name": "Python 3",
   "language": "python",
   "name": "python3"
  },
  "language_info": {
   "codemirror_mode": {
    "name": "ipython",
    "version": 3
   },
   "file_extension": ".py",
   "mimetype": "text/x-python",
   "name": "python",
   "nbconvert_exporter": "python",
   "pygments_lexer": "ipython3",
   "version": "3.6.9"
  }
 },
 "nbformat": 4,
 "nbformat_minor": 4
}
