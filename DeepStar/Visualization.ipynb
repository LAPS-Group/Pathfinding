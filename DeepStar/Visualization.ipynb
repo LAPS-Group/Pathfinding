{
 "cells": [
  {
   "cell_type": "code",
   "execution_count": 1,
   "metadata": {},
   "outputs": [
    {
     "name": "stdout",
     "output_type": "stream",
     "text": [
      "tensor(1.0000)\n"
     ]
    }
   ],
   "source": [
    "import os, sys\n",
    "\n",
    "module_path = os.path.abspath(os.path.join('..'))\n",
    "if module_path not in sys.path:\n",
    "    sys.path.append(module_path)\n",
    "\n",
    "import loader, torch, torchvision\n",
    "\n",
    "from torchvision import transforms\n",
    "from PIL import Image, ImageDraw\n",
    "\n",
    "from DeepStar.Model import DeepStar\n",
    "from Dijkstra import *"
   ]
  },
  {
   "cell_type": "code",
   "execution_count": 2,
   "metadata": {},
   "outputs": [],
   "source": [
    "img_size = (256, 256)\n",
    "save_file = \"deep_star_v3\"\n",
    "seed = 0"
   ]
  },
  {
   "cell_type": "code",
   "execution_count": 3,
   "metadata": {
    "scrolled": true
   },
   "outputs": [
    {
     "data": {
      "text/plain": [
       "<All keys matched successfully>"
      ]
     },
     "execution_count": 3,
     "metadata": {},
     "output_type": "execute_result"
    }
   ],
   "source": [
    "torch.manual_seed(seed)\n",
    "\n",
    "net = DeepStar()\n",
    "net.load_state_dict(torch.load(save_file))"
   ]
  },
  {
   "cell_type": "code",
   "execution_count": 18,
   "metadata": {},
   "outputs": [],
   "source": [
    "to_tensor = transforms.ToTensor()\n",
    "\n",
    "def guess_to_point(g, img_size):\n",
    "    return (round(g[0][0].item() * img_size[0]), round(g[0][1].item() * img_size[0]))\n",
    "\n",
    "def guess_point(net, img, start, stop, img_size):\n",
    "    img_tensor = to_tensor(img).unsqueeze(0)\n",
    "    sx, sy = start\n",
    "    ex, ey = stop\n",
    "    \n",
    "    sx = sx / img_size[0]\n",
    "    sy = sy / img_size[1]\n",
    "    \n",
    "    ex = ex / img_size[0]\n",
    "    ey = ey / img_size[1]\n",
    "    \n",
    "    #input_tensor = torch.tensor([[(0, 0), (1, 1)], img_tensor])\n",
    "    return guess_to_point(net([sx, sy, ex, ey, img_tensor]), img_size)\n"
   ]
  },
  {
   "cell_type": "markdown",
   "metadata": {},
   "source": [
    "## Test Loaded Network"
   ]
  },
  {
   "cell_type": "code",
   "execution_count": 19,
   "metadata": {
    "scrolled": false
   },
   "outputs": [
    {
     "ename": "ValueError",
     "evalue": "only one element tensors can be converted to Python scalars",
     "output_type": "error",
     "traceback": [
      "\u001b[0;31m---------------------------------------------------------------------------\u001b[0m",
      "\u001b[0;31mValueError\u001b[0m                                Traceback (most recent call last)",
      "\u001b[0;32m<ipython-input-19-ea8d4c2e660d>\u001b[0m in \u001b[0;36m<module>\u001b[0;34m\u001b[0m\n\u001b[1;32m      4\u001b[0m \u001b[0;32mwith\u001b[0m \u001b[0mImage\u001b[0m\u001b[0;34m.\u001b[0m\u001b[0mopen\u001b[0m\u001b[0;34m(\u001b[0m\u001b[0;34m\"map.png\"\u001b[0m\u001b[0;34m)\u001b[0m \u001b[0;32mas\u001b[0m \u001b[0mimg\u001b[0m\u001b[0;34m:\u001b[0m\u001b[0;34m\u001b[0m\u001b[0;34m\u001b[0m\u001b[0m\n\u001b[1;32m      5\u001b[0m     \u001b[0mimg\u001b[0m \u001b[0;34m=\u001b[0m \u001b[0mimg\u001b[0m\u001b[0;34m.\u001b[0m\u001b[0mconvert\u001b[0m\u001b[0;34m(\u001b[0m\u001b[0;34m'L'\u001b[0m\u001b[0;34m)\u001b[0m\u001b[0;34m\u001b[0m\u001b[0;34m\u001b[0m\u001b[0m\n\u001b[0;32m----> 6\u001b[0;31m     \u001b[0mgx\u001b[0m\u001b[0;34m,\u001b[0m \u001b[0mgy\u001b[0m \u001b[0;34m=\u001b[0m \u001b[0mguess_point\u001b[0m\u001b[0;34m(\u001b[0m\u001b[0mnet\u001b[0m\u001b[0;34m,\u001b[0m \u001b[0mimg\u001b[0m\u001b[0;34m,\u001b[0m \u001b[0mstart\u001b[0m\u001b[0;34m,\u001b[0m \u001b[0mstop\u001b[0m\u001b[0;34m,\u001b[0m \u001b[0mimg_size\u001b[0m\u001b[0;34m)\u001b[0m\u001b[0;34m\u001b[0m\u001b[0;34m\u001b[0m\u001b[0m\n\u001b[0m\u001b[1;32m      7\u001b[0m \u001b[0;34m\u001b[0m\u001b[0m\n\u001b[1;32m      8\u001b[0m     \u001b[0mprint\u001b[0m\u001b[0;34m(\u001b[0m\u001b[0mgx\u001b[0m\u001b[0;34m,\u001b[0m \u001b[0mgy\u001b[0m\u001b[0;34m)\u001b[0m\u001b[0;34m\u001b[0m\u001b[0;34m\u001b[0m\u001b[0m\n",
      "\u001b[0;32m<ipython-input-18-1e4cc0784532>\u001b[0m in \u001b[0;36mguess_point\u001b[0;34m(net, img, start, stop, img_size)\u001b[0m\n\u001b[1;32m     16\u001b[0m \u001b[0;34m\u001b[0m\u001b[0m\n\u001b[1;32m     17\u001b[0m     \u001b[0;31m#input_tensor = torch.tensor([[(0, 0), (1, 1)], img_tensor])\u001b[0m\u001b[0;34m\u001b[0m\u001b[0;34m\u001b[0m\u001b[0;34m\u001b[0m\u001b[0m\n\u001b[0;32m---> 18\u001b[0;31m     \u001b[0;32mreturn\u001b[0m \u001b[0mguess_to_point\u001b[0m\u001b[0;34m(\u001b[0m\u001b[0mnet\u001b[0m\u001b[0;34m(\u001b[0m\u001b[0mtorch\u001b[0m\u001b[0;34m.\u001b[0m\u001b[0mtensor\u001b[0m\u001b[0;34m(\u001b[0m\u001b[0;34m[\u001b[0m\u001b[0msx\u001b[0m\u001b[0;34m,\u001b[0m \u001b[0msy\u001b[0m\u001b[0;34m,\u001b[0m \u001b[0mex\u001b[0m\u001b[0;34m,\u001b[0m \u001b[0mey\u001b[0m\u001b[0;34m,\u001b[0m \u001b[0mimg_tensor\u001b[0m\u001b[0;34m]\u001b[0m\u001b[0;34m)\u001b[0m\u001b[0;34m)\u001b[0m\u001b[0;34m,\u001b[0m \u001b[0mimg_size\u001b[0m\u001b[0;34m)\u001b[0m\u001b[0;34m\u001b[0m\u001b[0;34m\u001b[0m\u001b[0m\n\u001b[0m",
      "\u001b[0;31mValueError\u001b[0m: only one element tensors can be converted to Python scalars"
     ]
    }
   ],
   "source": [
    "start = (184, 170)\n",
    "stop = (24, 16)\n",
    "\n",
    "with Image.open(\"map.png\") as img:\n",
    "    img = img.convert('L')\n",
    "    gx, gy = guess_point(net, img, start, stop, img_size)\n",
    "\n",
    "    print(gx, gy)"
   ]
  },
  {
   "cell_type": "code",
   "execution_count": null,
   "metadata": {},
   "outputs": [],
   "source": [
    "def add_point(img, point, color_space):\n",
    "    x, y = point\n",
    "    img.paste(color_space, (x - 1, y - 1, x, y))\n",
    "    \n",
    "def add_points(img, start, end):\n",
    "    sx, sy = start\n",
    "    ex, ey = end\n",
    "    \n",
    "    img.paste((0, 255, 0), (sx - 1, sy - 1, sx, sy))\n",
    "    img.paste((0, 0, 255), (ex - 1, ey - 1, ex, ey))\n",
    "    \n",
    "def get_midpoints(net, img_path, path):\n",
    "    new_path = []\n",
    "    \n",
    "    for i in range(len(path) - 1):\n",
    "        with Image.open(img_path) as img:\n",
    "            add_points(img, path[i], path[i + 1])\n",
    "            \n",
    "            g = guess_point(net, img, img_size)\n",
    "            new_path.append(g)\n",
    "            \n",
    "    return_path = []\n",
    "    for i in range(len(path)):\n",
    "        return_path.append(path[i])\n",
    "        \n",
    "        if (i < len(new_path)):\n",
    "            return_path.append(new_path[i])\n",
    "    \n",
    "    return return_path"
   ]
  },
  {
   "cell_type": "code",
   "execution_count": null,
   "metadata": {
    "scrolled": true
   },
   "outputs": [],
   "source": [
    "m = \"map.png\"\n",
    "start = (37, 37)\n",
    "end = (231, 231)\n",
    "\n",
    "#(146, 145)\n",
    "#(163, 164)\n",
    "\n",
    "path = [start, end]\n",
    "\n",
    "for i in range(4):\n",
    "    print(i)\n",
    "    path = get_midpoints(net, m, path)\n",
    "\n",
    "#print(len(path))\n",
    "with Image.open(m) as img:\n",
    "    world = []\n",
    "    pixels = img.load()\n",
    "    for x in range(256):\n",
    "        world.append([])\n",
    "        for y in range(256):\n",
    "            world[x].append(Node(pixels[x, y][0] / 255, (x, y)))\n",
    "    \n",
    "    edges = get_edges(world)\n",
    "    dijkstra_path = dijkstra1(edges, start, end)\n",
    "    for d in get_path(dijkstra_path):\n",
    "        #print(d)\n",
    "        add_point(img, d, (0, 0, 255))\n",
    "    \n",
    "    draw = ImageDraw.Draw(img)\n",
    "    draw.line(path)\n",
    "    \n",
    "    del draw\n",
    "    for p in path:\n",
    "        add_point(img, p, (0, 255, 0))\n",
    "    \n",
    "    display(img)"
   ]
  }
 ],
 "metadata": {
  "kernelspec": {
   "display_name": "Python 3",
   "language": "python",
   "name": "python3"
  },
  "language_info": {
   "codemirror_mode": {
    "name": "ipython",
    "version": 3
   },
   "file_extension": ".py",
   "mimetype": "text/x-python",
   "name": "python",
   "nbconvert_exporter": "python",
   "pygments_lexer": "ipython3",
   "version": "3.6.9"
  }
 },
 "nbformat": 4,
 "nbformat_minor": 4
}
