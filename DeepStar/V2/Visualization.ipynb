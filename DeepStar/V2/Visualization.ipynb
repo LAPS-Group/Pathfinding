{
 "cells": [
  {
   "cell_type": "code",
   "execution_count": null,
   "metadata": {},
   "outputs": [],
   "source": [
    "import os, sys\n",
    "\n",
    "module_path = os.path.abspath(os.path.join('..'))\n",
    "if module_path not in sys.path:\n",
    "    sys.path.append(module_path)\n",
    "\n",
    "import loader, torch, torchvision\n",
    "\n",
    "from torchvision import transforms\n",
    "from PIL import Image, ImageDraw\n",
    "\n",
    "from DeepStar.Model import DeepStar\n",
    "from Dijkstra import *"
   ]
  },
  {
   "cell_type": "code",
   "execution_count": null,
   "metadata": {},
   "outputs": [],
   "source": [
    "img_size = (256, 256)\n",
    "save_file = \"deep_star_v3\"\n",
    "seed = 0"
   ]
  },
  {
   "cell_type": "code",
   "execution_count": null,
   "metadata": {
    "scrolled": true
   },
   "outputs": [],
   "source": [
    "torch.manual_seed(seed)\n",
    "\n",
    "net = DeepStar()\n",
    "net.load_state_dict(torch.load(save_file))"
   ]
  },
  {
   "cell_type": "code",
   "execution_count": null,
   "metadata": {},
   "outputs": [],
   "source": [
    "to_tensor = transforms.ToTensor()\n",
    "\n",
    "def guess_to_point(g, img_size):\n",
    "    return (round(g[0][0].item() * img_size[0]), round(g[0][1].item() * img_size[0]))\n",
    "\n",
    "def guess_point(net, img, start, stop, img_size):\n",
    "    img_tensor = to_tensor(img).unsqueeze(0)\n",
    "    sx, sy = start\n",
    "    ex, ey = stop\n",
    "    \n",
    "    sx = sx / img_size[0]\n",
    "    sy = sy / img_size[1]\n",
    "    \n",
    "    ex = ex / img_size[0]\n",
    "    ey = ey / img_size[1]\n",
    "    \n",
    "    #input_tensor = torch.tensor([[(0, 0), (1, 1)], img_tensor])\n",
    "    return guess_to_point(net([sx, sy, ex, ey, img_tensor]), img_size)\n"
   ]
  },
  {
   "cell_type": "markdown",
   "metadata": {},
   "source": [
    "## Test Loaded Network"
   ]
  },
  {
   "cell_type": "code",
   "execution_count": null,
   "metadata": {
    "scrolled": false
   },
   "outputs": [],
   "source": [
    "start = (184, 170)\n",
    "stop = (24, 16)\n",
    "\n",
    "with Image.open(\"map.png\") as img:\n",
    "    img = img.convert('L')\n",
    "    gx, gy = guess_point(net, img, start, stop, img_size)\n",
    "\n",
    "    print(gx, gy)"
   ]
  },
  {
   "cell_type": "code",
   "execution_count": null,
   "metadata": {},
   "outputs": [],
   "source": [
    "def add_point(img, point, color_space):\n",
    "    x, y = point\n",
    "    img.paste(color_space, (x - 1, y - 1, x, y))\n",
    "    \n",
    "def add_points(img, start, end):\n",
    "    sx, sy = start\n",
    "    ex, ey = end\n",
    "    \n",
    "    img.paste((0, 255, 0), (sx - 1, sy - 1, sx, sy))\n",
    "    img.paste((0, 0, 255), (ex - 1, ey - 1, ex, ey))\n",
    "    \n",
    "def get_midpoints(net, img_path, path):\n",
    "    new_path = []\n",
    "    \n",
    "    for i in range(len(path) - 1):\n",
    "        with Image.open(img_path) as img:\n",
    "            add_points(img, path[i], path[i + 1])\n",
    "            \n",
    "            g = guess_point(net, img, img_size)\n",
    "            new_path.append(g)\n",
    "            \n",
    "    return_path = []\n",
    "    for i in range(len(path)):\n",
    "        return_path.append(path[i])\n",
    "        \n",
    "        if (i < len(new_path)):\n",
    "            return_path.append(new_path[i])\n",
    "    \n",
    "    return return_path"
   ]
  },
  {
   "cell_type": "code",
   "execution_count": null,
   "metadata": {
    "scrolled": true
   },
   "outputs": [],
   "source": [
    "m = \"map.png\"\n",
    "start = (37, 37)\n",
    "end = (231, 231)\n",
    "\n",
    "#(146, 145)\n",
    "#(163, 164)\n",
    "\n",
    "path = [start, end]\n",
    "\n",
    "for i in range(4):\n",
    "    print(i)\n",
    "    path = get_midpoints(net, m, path)\n",
    "\n",
    "#print(len(path))\n",
    "with Image.open(m) as img:\n",
    "    world = []\n",
    "    pixels = img.load()\n",
    "    for x in range(256):\n",
    "        world.append([])\n",
    "        for y in range(256):\n",
    "            world[x].append(Node(pixels[x, y][0] / 255, (x, y)))\n",
    "    \n",
    "    edges = get_edges(world)\n",
    "    dijkstra_path = dijkstra1(edges, start, end)\n",
    "    for d in get_path(dijkstra_path):\n",
    "        #print(d)\n",
    "        add_point(img, d, (0, 0, 255))\n",
    "    \n",
    "    draw = ImageDraw.Draw(img)\n",
    "    draw.line(path)\n",
    "    \n",
    "    del draw\n",
    "    for p in path:\n",
    "        add_point(img, p, (0, 255, 0))\n",
    "    \n",
    "    display(img)"
   ]
  }
 ],
 "metadata": {
  "kernelspec": {
   "display_name": "Python 3",
   "language": "python",
   "name": "python3"
  },
  "language_info": {
   "codemirror_mode": {
    "name": "ipython",
    "version": 3
   },
   "file_extension": ".py",
   "mimetype": "text/x-python",
   "name": "python",
   "nbconvert_exporter": "python",
   "pygments_lexer": "ipython3",
   "version": "3.6.9"
  }
 },
 "nbformat": 4,
 "nbformat_minor": 4
}
