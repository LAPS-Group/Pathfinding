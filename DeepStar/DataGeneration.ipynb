{
 "cells": [
  {
   "cell_type": "markdown",
   "metadata": {},
   "source": [
    "# DeepStart Data Genertion\n",
    "\n",
    "This program creates training data for deepstar usng the dijkstra algorithm on a randomly generated perlin noise heightmap.\n",
    "\n",
    "## Import Python Modules"
   ]
  },
  {
   "cell_type": "code",
   "execution_count": null,
   "metadata": {
    "scrolled": true
   },
   "outputs": [],
   "source": [
    "import os, sys\n",
    "module_path = os.path.abspath(os.path.join('..'))\n",
    "if module_path not in sys.path:\n",
    "    sys.path.append(module_path)\n",
    "\n",
    "import loader, os, io, random, noise, math, time\n",
    "\n",
    "from PIL import Image\n",
    "from Dijkstra import *"
   ]
  },
  {
   "cell_type": "markdown",
   "metadata": {},
   "source": [
    "## Data Generation Options\n",
    "\n",
    "#### Data settings\n",
    "**Shape**: Image dimensions in pixels.<br>\n",
    "**Output**: Output folder path for images.<br>\n",
    "**Images**: How many images to generate.<br>\n",
    "\n",
    "#### Noise settings\n",
    "**Scale**: Noise scale.<br>\n",
    "**Octaves**: How many times to apply the noise.<br>\n",
    "**Persistence**: How much the noise amplitue changes for each octave.<br>\n",
    "**Lacunarity**: How much the noise frequency changes for each octave."
   ]
  },
  {
   "cell_type": "code",
   "execution_count": null,
   "metadata": {},
   "outputs": [],
   "source": [
    "shape = (256, 256)\n",
    "output = \"data\"\n",
    "images = 1\n",
    "\n",
    "scale = 100.0\n",
    "octaves = 6\n",
    "persistence = 0.5\n",
    "lacunarity = 2.0"
   ]
  },
  {
   "cell_type": "markdown",
   "metadata": {},
   "source": [
    "## Data Generation\n",
    "### Helper Function"
   ]
  },
  {
   "cell_type": "markdown",
   "metadata": {},
   "source": [
    "#### Get Height\n",
    "\n",
    "Calculates the perlin noise height at a given point (i, j).<br>\n",
    "**Return**: A float value between -1 and 1"
   ]
  },
  {
   "cell_type": "code",
   "execution_count": null,
   "metadata": {},
   "outputs": [],
   "source": [
    "def get_height(i, j):\n",
    "    return noise.pnoise2(i/scale, j/scale, octaves=octaves, persistence=persistence, lacunarity=lacunarity, repeatx=shape[0], repeaty=shape[1], base=0)"
   ]
  },
  {
   "cell_type": "markdown",
   "metadata": {},
   "source": [
    "#### Generate Map\n",
    "\n",
    "Calculates noise values for the entire grid with the dimensions given in the shape setting. The heightvalues are normalized to between 0 and 1.<br>\n",
    "**Return**: A grid of dimensions (shape.x, shape.y) that contains normalized perline height noise."
   ]
  },
  {
   "cell_type": "code",
   "execution_count": null,
   "metadata": {},
   "outputs": [],
   "source": [
    "def generate_map():\n",
    "    grid = []\n",
    "    for i in range(shape[0]):\n",
    "        grid.append([])\n",
    "        for j in range(shape[1]):\n",
    "            n = get_height(i, j)\n",
    "            n += 1\n",
    "            n /= 2\n",
    "            \n",
    "            grid[i].append(Node(n, (i, j)))\n",
    "            \n",
    "    return grid"
   ]
  },
  {
   "cell_type": "markdown",
   "metadata": {},
   "source": [
    "#### Get Node\n",
    "\n",
    "Get node at point.<br>\n",
    "**Return**: Node at point give."
   ]
  },
  {
   "cell_type": "code",
   "execution_count": null,
   "metadata": {},
   "outputs": [],
   "source": [
    "def get_node(world, point):\n",
    "    return world[point[0]][point[1]]"
   ]
  },
  {
   "cell_type": "markdown",
   "metadata": {},
   "source": [
    "#### Get Random Points\n",
    "\n",
    "Calculates a random start and stop inside the shape given in the settings.<br>\n",
    "**Return**: Start and End point (Not node)."
   ]
  },
  {
   "cell_type": "code",
   "execution_count": null,
   "metadata": {},
   "outputs": [],
   "source": [
    "def get_random_points():\n",
    "    start = (random.randrange(0, shape[1]), random.randrange(0, shape[1]))\n",
    "    end = (random.randrange(0, shape[1]), random.randrange(0, shape[1]))\n",
    "    \n",
    "    return start, end"
   ]
  },
  {
   "cell_type": "markdown",
   "metadata": {},
   "source": [
    "#### Create Image\n",
    "\n",
    "Create a training image for DeepStar. The R axis contains the heightdata from the grid, G and B axies contains the start and stop point respectivly.<br>\n",
    "**Return**: RGB training image fro DeepStar."
   ]
  },
  {
   "cell_type": "code",
   "execution_count": null,
   "metadata": {},
   "outputs": [],
   "source": [
    "def create_image(grid, start, end):\n",
    "    im = Image.new(\"RGB\", shape, \"#00FF00\")\n",
    "    pixels = im.load()\n",
    "    \n",
    "    sx, sy = start\n",
    "    ex, ey = end\n",
    "    \n",
    "    im.paste((0, 255, 0), (sx - 1, sy - 1, sx, sy))\n",
    "    im.paste((0, 0, 255), (ex - 1, ey - 1, ex, ey))\n",
    "    \n",
    "    for i in range(shape[0]):\n",
    "        for j in range(shape[1]):\n",
    "            intNoise = int(grid[i][j].value * 255)\n",
    "            pixels[i, j] = (intNoise, 0, 0)\n",
    "            \n",
    "    return im"
   ]
  },
  {
   "cell_type": "markdown",
   "metadata": {},
   "source": [
    "### Implementation\n",
    "\n",
    "Loop for creating the training data"
   ]
  },
  {
   "cell_type": "code",
   "execution_count": null,
   "metadata": {
    "scrolled": true
   },
   "outputs": [],
   "source": [
    "start, end = get_random_points()\n",
    "prev_progress = 0\n",
    "\n",
    "print(f'Starting data generation of {images} image{(\"s\" if images != 1 else \"\")}')\n",
    "for image in range(images):\n",
    "    world = generate_map()\n",
    "    start_node = get_node(world, start)\n",
    "    end_node = get_node(world, end)\n",
    "    \n",
    "    path = dijkstra(start_node, end_node, world)\n",
    "    if path is None:\n",
    "        continue\n",
    "    \n",
    "    midpoint = get_path_midpoint(path)\n",
    "    mx, my = midpoint.point\n",
    "    \n",
    "    im = create_image(world, start, end)\n",
    "    im.save(output + \"{0}_{1}.png\".format(mx, my, image))\n",
    "\n",
    "    progress = round(((image + 1) / images))\n",
    "    if (progress != prev_progress):\n",
    "        print(f'{progress}%')\n",
    "        prev_progress = progress\n",
    "\n",
    "    start, end = get_random_points()"
   ]
  }
 ],
 "metadata": {
  "kernelspec": {
   "display_name": "Python 3",
   "language": "python",
   "name": "python3"
  },
  "language_info": {
   "codemirror_mode": {
    "name": "ipython",
    "version": 3
   },
   "file_extension": ".py",
   "mimetype": "text/x-python",
   "name": "python",
   "nbconvert_exporter": "python",
   "pygments_lexer": "ipython3",
   "version": "3.6.9"
  }
 },
 "nbformat": 4,
 "nbformat_minor": 4
}
