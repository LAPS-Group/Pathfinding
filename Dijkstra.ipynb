{
 "cells": [
  {
   "cell_type": "code",
   "execution_count": null,
   "metadata": {
    "scrolled": true
   },
   "outputs": [],
   "source": [
    "import random, noise, math\n",
    "\n",
    "from collections import defaultdict\n",
    "from heapq import *"
   ]
  },
  {
   "cell_type": "markdown",
   "metadata": {},
   "source": [
    "## Node Class\n",
    "\n",
    "Class to keep information used by the dijkstra algorithm. The move cost return how much it will cost to move from this node to another. Now it is calculated as the height difference between the two pluss a small constant to make sure it will take the shortest path along a flat plane."
   ]
  },
  {
   "cell_type": "code",
   "execution_count": null,
   "metadata": {},
   "outputs": [],
   "source": [
    "class Node:\n",
    "    def __init__(self,value,point):\n",
    "        self.value = value\n",
    "        self.dist = 999999\n",
    "        self.point = point\n",
    "        self.parent = None\n",
    "\n",
    "    def move_cost(self,other):\n",
    "        if self.value > other.value:\n",
    "            return self.value - other.value + 0.01\n",
    "        else:\n",
    "            return other.value - self.value + 0.01"
   ]
  },
  {
   "cell_type": "markdown",
   "metadata": {},
   "source": [
    "## Dijkstra\n",
    "### Helper Function\n",
    "#### Get Neighbour\n",
    "\n",
    "Returns all direct neighbours from a give point. It will not return diagonal neighbours.<br>\n",
    "**Return**: A list of four nodes."
   ]
  },
  {
   "cell_type": "code",
   "execution_count": 3,
   "metadata": {},
   "outputs": [],
   "source": [
    "def get_neighbours(point, grid):\n",
    "    x,y = point.point\n",
    "    liste = []\n",
    "    if x-1 > 0:\n",
    "        liste.append((x-1, y))\n",
    "    if x+1 < len(grid):\n",
    "        liste.append((x+1, y))\n",
    "    if y-1 > 0:\n",
    "        liste.append((x, y-1))\n",
    "    if y+1 < len(grid[0]):\n",
    "        liste.append((x, y+1))\n",
    "\n",
    "    return [grid[d[0]][d[1]] for d in liste]"
   ]
  },
  {
   "cell_type": "markdown",
   "metadata": {},
   "source": [
    "#### Get Path\n",
    "\n",
    "Traces a path back to the start using each nodes parents. This path will be the shortest assuming each nodes parrent is the one with the least travel distance.<br>\n",
    "**Return**: List of nodes that is the most optimal path."
   ]
  },
  {
   "cell_type": "code",
   "execution_count": 4,
   "metadata": {},
   "outputs": [],
   "source": [
    "def get_path(current):\n",
    "    path = []\n",
    "    while current.parent:\n",
    "        path.append(current)\n",
    "        current = current.parent\n",
    "\n",
    "    return path"
   ]
  },
  {
   "cell_type": "markdown",
   "metadata": {},
   "source": [
    "#### Get Path Midpoint\n",
    "\n",
    "Finds the median point in a path.<br>\n",
    "**Return**: Single node that is the median point."
   ]
  },
  {
   "cell_type": "code",
   "execution_count": 5,
   "metadata": {},
   "outputs": [],
   "source": [
    "def get_path_midpoint(path):\n",
    "    return path[math.floor(len(path) / 2)]"
   ]
  },
  {
   "cell_type": "markdown",
   "metadata": {},
   "source": [
    "#### Update Neighbours\n",
    "\n",
    "Loops through all neigbouring nodes to see if the travel distance through itself to the neighbour is shorter than its current distance. It will update all neighbours and add them to the openset if they have not been visited before, this is done to decrease the amount of node min() has to check.<br>\n",
    "**Return**: Nothing"
   ]
  },
  {
   "cell_type": "code",
   "execution_count": 6,
   "metadata": {},
   "outputs": [],
   "source": [
    "def update_neighbours(grid, current, visited, openset):\n",
    "    for n in get_neighbours(current, grid):\n",
    "        if (not visited.__contains__(n)):\n",
    "            openset.add(n)\n",
    "            if n.dist > current.dist + n.move_cost(current):\n",
    "                n.dist = current.dist + n.move_cost(current)\n",
    "                n.parent = current"
   ]
  },
  {
   "cell_type": "markdown",
   "metadata": {},
   "source": [
    "#### Get Edges\n",
    "\n",
    "Calculates movment costs between all nodes.<br>\n",
    "**Return**: A list of movment cost between two points."
   ]
  },
  {
   "cell_type": "code",
   "execution_count": 7,
   "metadata": {},
   "outputs": [],
   "source": [
    "def get_edges(world):\n",
    "    edges = []\n",
    "    \n",
    "    for r in world:\n",
    "        for i in r:\n",
    "            for n in get_neighbours(i, world):\n",
    "                edges.append((i.point, n.point, i.move_cost(n)))\n",
    "                \n",
    "    return edges"
   ]
  },
  {
   "cell_type": "markdown",
   "metadata": {},
   "source": [
    "#### Get Path\n",
    "\n",
    "Gets all the points of a dijkstra path as a list of points.<br>\n",
    "**Return**: A list of points."
   ]
  },
  {
   "cell_type": "code",
   "execution_count": 8,
   "metadata": {},
   "outputs": [],
   "source": [
    "def get_path(dijkstra_path):\n",
    "    path = []\n",
    "    c = dijkstra_path[1]\n",
    "    while c:\n",
    "        if (isinstance(c, Node) or isinstance(c, float)):\n",
    "            break\n",
    "        \n",
    "        path.append(c[0])\n",
    "        c = c[1]\n",
    "        \n",
    "    return path"
   ]
  },
  {
   "cell_type": "markdown",
   "metadata": {},
   "source": [
    "#### Get Cost\n",
    "\n",
    "Get the total cost of a dijkstra path.<br>\n",
    "**Return**: float"
   ]
  },
  {
   "cell_type": "code",
   "execution_count": 9,
   "metadata": {},
   "outputs": [],
   "source": [
    "def get_cost(dijkstra_path):\n",
    "    return dijkstra_path[0]"
   ]
  },
  {
   "cell_type": "markdown",
   "metadata": {},
   "source": [
    "### Dijkstra Algorithim Implementation\n",
    "\n",
    "Dijkstra is the algorithm used for this data generation. This is an optimized version, for explonation see wikipedia."
   ]
  },
  {
   "cell_type": "code",
   "execution_count": 10,
   "metadata": {},
   "outputs": [],
   "source": [
    "def dijkstra(edges, f, t):\n",
    "    g = defaultdict(list)\n",
    "    for l,r,c in edges:\n",
    "        g[l].append((c,r))\n",
    "\n",
    "    q, seen, mins = [(0,f,())], set(), {f: 0}\n",
    "    while q:\n",
    "        (cost,v1,path) = heappop(q)\n",
    "        if v1 not in seen:\n",
    "            seen.add(v1)\n",
    "            path = (v1, path)\n",
    "            if v1 == t: return (cost, path)\n",
    "\n",
    "            for c, v2 in g.get(v1, ()):\n",
    "                if v2 in seen: continue\n",
    "                prev = mins.get(v2, None)\n",
    "                next = cost + c\n",
    "                if prev is None or next < prev:\n",
    "                    mins[v2] = next\n",
    "                    heappush(q, (next, v2, path))\n",
    "\n",
    "    return float(\"inf\")"
   ]
  }
 ],
 "metadata": {
  "kernelspec": {
   "display_name": "Python 3",
   "language": "python",
   "name": "python3"
  },
  "language_info": {
   "codemirror_mode": {
    "name": "ipython",
    "version": 3
   },
   "file_extension": ".py",
   "mimetype": "text/x-python",
   "name": "python",
   "nbconvert_exporter": "python",
   "pygments_lexer": "ipython3",
   "version": "3.6.9"
  }
 },
 "nbformat": 4,
 "nbformat_minor": 4
}
