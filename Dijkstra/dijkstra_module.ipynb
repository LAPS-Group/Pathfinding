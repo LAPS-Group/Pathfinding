{
 "cells": [
  {
   "cell_type": "code",
   "execution_count": null,
   "metadata": {},
   "outputs": [],
   "source": [
    "import os, sys\n",
    "\n",
    "module_path = os.path.abspath(os.path.join('..'))\n",
    "if module_path not in sys.path:\n",
    "    sys.path.append(module_path)\n",
    "\n",
    "import laps, redis, loader\n",
    "from Dijkstra.Dijkstra import *"
   ]
  },
  {
   "cell_type": "markdown",
   "metadata": {},
   "source": [
    "#### Setup redis client\n",
    "Defines `redis_connection` to avoid explicitly having to type the IP to make it easier to change."
   ]
  },
  {
   "cell_type": "code",
   "execution_count": null,
   "metadata": {},
   "outputs": [],
   "source": [
    "from redis_connection import *"
   ]
  },
  {
   "cell_type": "markdown",
   "metadata": {},
   "source": [
    "### Temporary Redis Data Adding\n",
    "As the server isn't up yet and we're running on local machines, the next cell serves only to add the map image to the Redis database. The PNG image is stored as a byte array on the Redis database, to achieve this `io` is used."
   ]
  },
  {
   "cell_type": "code",
   "execution_count": null,
   "metadata": {},
   "outputs": [],
   "source": [
    "from PIL import Image, ImageDraw\n",
    "import io\n",
    "\n",
    "img = Image.open(\"../DeepStar/map.png\", mode='r')\n",
    "\n",
    "img_byte_array = io.BytesIO()\n",
    "img.save(img_byte_array, format='PNG')\n",
    "img_byte_array = img_byte_array.getvalue()\n",
    "\n",
    "redis_connection.set(2, img_byte_array)"
   ]
  },
  {
   "cell_type": "markdown",
   "metadata": {},
   "source": [
    "Setup handler function, which is the function responsible for taking in the input and using the Dijkstra module to return an output. The `Job request` API call, is in JSON format, and is formatted like this:\n",
    "```JSON\n",
    "{\n",
    "    \"job_id\": int32,                                                                     \n",
    "    \"start\": {\n",
    "        \"x\": int32,                                                                       \n",
    "        \"y\": int32                                                                        \n",
    "    },  \n",
    "    \"stop\": {\n",
    "        \"x\": int32,                                                                       \n",
    "        \"y\": int32                                                                        \n",
    "    }   \n",
    "}\n",
    "```\n",
    "The parsed JSON is passed as a Python dictionary to runner, with the help of the `laps.py`. The `Job request` API call expects the `Job result` answer in the JSON format as well, formatted as:\n",
    "```JSON\n",
    "{\n",
    "    \"job_id\": int32,  \n",
    "    \"points\": [\n",
    "        \"x\": int32,                                                                       \n",
    "        \"y\": int32                                                                        \n",
    "    ]   \n",
    "}\n",
    "```\n",
    "Which `points` being a list of entries with a `x` and `y` field."
   ]
  },
  {
   "cell_type": "code",
   "execution_count": null,
   "metadata": {},
   "outputs": [],
   "source": [
    "def handler(runner, job):\n",
    "    # Get start and stop points from the job request\n",
    "    start = (job[\"start\"][\"x\"], job[\"start\"][\"y\"])\n",
    "    stop = (job[\"stop\"][\"x\"], job[\"stop\"][\"y\"])\n",
    "    \n",
    "    # Read the PNG image from the Redis key given by the request\n",
    "    img_byte_array = redis_connection.get(job[\"map_id\"])\n",
    "    # Make a grid of the heightvalues from the image\n",
    "    grid = []\n",
    "    with Image.open(io.BytesIO(img_byte_array)) as img:\n",
    "        pixels = img.load()\n",
    "        for x in range(256):\n",
    "            grid.append([])\n",
    "            for y in range(256):\n",
    "                grid[x].append(Node(pixels[x, y][0] / 255, (x, y)))\n",
    "\n",
    "    # Use the Dijkstra module on the grid, along with start and stop\n",
    "    # to calculate the path.\n",
    "    edges = get_edges(grid)\n",
    "    dijkstra_path = dijkstra(edges, start, stop)\n",
    "    path = get_path(dijkstra_path)\n",
    "    \n",
    "    # Create the response, which is a list of points, each with x and y\n",
    "    response = {\n",
    "        \"points\": [{\"x\": x, \"y\": y} for x,y in path]\n",
    "    }\n",
    "    \n",
    "    # Return the response, along with True, indicating that the module\n",
    "    # should keep running.\n",
    "    return (True, response)"
   ]
  },
  {
   "cell_type": "markdown",
   "metadata": {},
   "source": [
    "Send handler function to the run function in the `laps.py` module, which runs the function and checks for any job request to the module. If there is any requests, it pops it off the list, and calls the handler function with the `Job request` in the JSON form above.\n",
    "\n",
    "(As of now, the hardcoded job request that is recieved from backend is: `{'job_id': 20, 'start': {'x': 200.0, 'y': 90.0}, 'stop': {'x': 10.0, 'y': 10.0}, 'map_id': 2}`)"
   ]
  },
  {
   "cell_type": "code",
   "execution_count": null,
   "metadata": {},
   "outputs": [],
   "source": [
    "with laps.Runner(\"dijkstra_module\", \"1.0.0\", redis_connection) as runner:\n",
    "    runner.run(handler)"
   ]
  }
 ],
 "metadata": {
  "kernelspec": {
   "display_name": "Python 3",
   "language": "python",
   "name": "python3"
  },
  "language_info": {
   "codemirror_mode": {
    "name": "ipython",
    "version": 3
   },
   "file_extension": ".py",
   "mimetype": "text/x-python",
   "name": "python",
   "nbconvert_exporter": "python",
   "pygments_lexer": "ipython3",
   "version": "3.6.9"
  }
 },
 "nbformat": 4,
 "nbformat_minor": 4
}
