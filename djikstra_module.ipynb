{
 "cells": [
  {
   "cell_type": "code",
   "execution_count": 1,
   "metadata": {},
   "outputs": [],
   "source": [
    "import laps\n",
    "import redis"
   ]
  },
  {
   "cell_type": "markdown",
   "metadata": {},
   "source": [
    "#### Setup redis client\n",
    "\n",
    "Bash command to find IP of a container:<br>\n",
    "`docker inspect -f '{{range .NetworkSettings.Networks}}{{.IPAddress}}{{end}}' container_name_or_id`<br>\n",
    "Redis container is (as of now) called redis1"
   ]
  },
  {
   "cell_type": "code",
   "execution_count": null,
   "metadata": {},
   "outputs": [],
   "source": [
    "redis_client = redis.Redis(host=\"172.17.0.2\", port=6379)"
   ]
  },
  {
   "cell_type": "markdown",
   "metadata": {},
   "source": [
    "Define function to get neighbour nodes.\n",
    "\n",
    "Currently it will only return neighbours across and not diagonal"
   ]
  },
  {
   "cell_type": "code",
   "execution_count": null,
   "metadata": {},
   "outputs": [],
   "source": [
    "def get_neighbours(point,grid, width, height):\n",
    "    x,y = point.point\n",
    "    liste = []\n",
    "    if x-1 > 0:\n",
    "        liste.append((x-1, y))\n",
    "    if x+1 < width:\n",
    "        liste.append((x+1, y))\n",
    "    if y-1 > 0:\n",
    "        liste.append((x, y-1))\n",
    "    if y+1 < height:\n",
    "        liste.append((x, y+1))\n",
    "        \n",
    "    return liste"
   ]
  },
  {
   "cell_type": "code",
   "execution_count": null,
   "metadata": {},
   "outputs": [],
   "source": [
    "def djikstra(start, goal, grid, width, height):\n",
    "    start.dist = 0\n",
    "\n",
    "    openset = set()\n",
    "\n",
    "    visited = {}\n",
    "    current = start\n",
    "    while True:\n",
    "        if current == goal:\n",
    "            path = []\n",
    "            while current.parent:\n",
    "                path.append(current)\n",
    "                current = current.parent\n",
    "\n",
    "            return path\n",
    "\n",
    "        for n in get_neighbours(current, grid, width, height):\n",
    "            if (not visited.__contains__(n)):\n",
    "                openset.add(n)\n",
    "                if n.dist > current.dist + n.move_cost(current):\n",
    "                    n.dist = current.dist + n.move_cost(current)\n",
    "                    n.parent = current\n",
    "\n",
    "        visited[current] = current\n",
    "        current = min(openset, key=lambda n: n.dist)\n",
    "        openset.remove(current)"
   ]
  },
  {
   "cell_type": "markdown",
   "metadata": {},
   "source": [
    "Setup pathfinding module"
   ]
  },
  {
   "cell_type": "code",
   "execution_count": null,
   "metadata": {},
   "outputs": [],
   "source": [
    "def handler(runner, job):\n",
    "    print(\"Hello, World!\")\n",
    "    #runner.send_error(\"lmao this is an error\")\n",
    "    points = [{\"x\": 20, \"y\": 10}, {\"x\": 10, \"y\": 20}]\n",
    "\n",
    "    return (False, runner.response(points))\n",
    "\n",
    "\n",
    "with laps.Runner(\"dijkstra_module\", \"1.0.0\", redis_client) as runner:\n",
    "    runner.run(handler)"
   ]
  }
 ],
 "metadata": {
  "kernelspec": {
   "display_name": "Python 3",
   "language": "python",
   "name": "python3"
  },
  "language_info": {
   "codemirror_mode": {
    "name": "ipython",
    "version": 3
   },
   "file_extension": ".py",
   "mimetype": "text/x-python",
   "name": "python",
   "nbconvert_exporter": "python",
   "pygments_lexer": "ipython3",
   "version": "3.6.9"
  }
 },
 "nbformat": 4,
 "nbformat_minor": 4
}
